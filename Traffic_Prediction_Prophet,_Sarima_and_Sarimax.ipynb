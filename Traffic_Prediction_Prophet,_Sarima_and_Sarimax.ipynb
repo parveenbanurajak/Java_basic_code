{
  "metadata": {
    "kernelspec": {
      "name": "python3",
      "display_name": "Python 3",
      "language": "python"
    },
    "language_info": {
      "name": "python",
      "version": "3.10.14",
      "mimetype": "text/x-python",
      "codemirror_mode": {
        "name": "ipython",
        "version": 3
      },
      "pygments_lexer": "ipython3",
      "nbconvert_exporter": "python",
      "file_extension": ".py"
    },
    "kaggle": {
      "accelerator": "none",
      "dataSources": [
        {
          "sourceId": 1958513,
          "sourceType": "datasetVersion",
          "datasetId": 1169027
        }
      ],
      "dockerImageVersionId": 30761,
      "isInternetEnabled": false,
      "language": "python",
      "sourceType": "notebook",
      "isGpuEnabled": false
    },
    "colab": {
      "name": "Traffic Prediction: Prophet, Sarima and Sarimax",
      "provenance": [],
      "include_colab_link": true
    }
  },
  "nbformat_minor": 0,
  "nbformat": 4,
  "cells": [
    {
      "cell_type": "markdown",
      "metadata": {
        "id": "view-in-github",
        "colab_type": "text"
      },
      "source": [
        "<a href=\"https://colab.research.google.com/github/parveenbanurajak/Java_basic_code/blob/main/Traffic_Prediction_Prophet%2C_Sarima_and_Sarimax.ipynb\" target=\"_parent\"><img src=\"https://colab.research.google.com/assets/colab-badge.svg\" alt=\"Open In Colab\"/></a>"
      ]
    },
    {
      "source": [
        "# IMPORTANT: RUN THIS CELL IN ORDER TO IMPORT YOUR KAGGLE DATA SOURCES,\n",
        "# THEN FEEL FREE TO DELETE THIS CELL.\n",
        "# NOTE: THIS NOTEBOOK ENVIRONMENT DIFFERS FROM KAGGLE'S PYTHON\n",
        "# ENVIRONMENT SO THERE MAY BE MISSING LIBRARIES USED BY YOUR\n",
        "# NOTEBOOK.\n",
        "import kagglehub\n",
        "fedesoriano_traffic_prediction_dataset_path = kagglehub.dataset_download('fedesoriano/traffic-prediction-dataset')\n",
        "\n",
        "print('Data source import complete.')\n"
      ],
      "metadata": {
        "id": "lAe4av9mecLQ"
      },
      "cell_type": "code",
      "outputs": [],
      "execution_count": null
    },
    {
      "cell_type": "markdown",
      "source": [
        "## <center> Road Traffic Prediction : EDA, Prophet, SARIMA and SARIMAX </center>"
      ],
      "metadata": {
        "id": "QAgg3EoYecLS"
      }
    },
    {
      "cell_type": "markdown",
      "source": [
        "#### Context\n",
        "Traffic congestion is increasing in cities worldwide, driven by growing urban populations, outdated infrastructure, poorly coordinated traffic signals, and a lack of real-time data. The consequences are substantial. According to traffic data and analytics firm INRIX, U.S. commuters lost $305 billion in 2017 due to wasted fuel, lost time, and higher costs of transporting goods through congested areas. With limited physical space and financial resources to build more roads, cities need to adopt new strategies and technologies to enhance traffic management.\n",
        "#### Content\n",
        "This dataset contains 48.1k (48120) observations of the number of vehicles each hour in four different junctions. In this project, we'll focus solely on data from Junction 1."
      ],
      "metadata": {
        "id": "byDIpc1eecLS"
      }
    },
    {
      "cell_type": "code",
      "source": [
        "# !pip install prophet\n",
        "# !pip install holidays"
      ],
      "metadata": {
        "execution": {
          "iopub.status.busy": "2024-10-24T10:28:05.836107Z",
          "iopub.execute_input": "2024-10-24T10:28:05.8371Z",
          "iopub.status.idle": "2024-10-24T10:28:05.842221Z",
          "shell.execute_reply.started": "2024-10-24T10:28:05.837053Z",
          "shell.execute_reply": "2024-10-24T10:28:05.840971Z"
        },
        "trusted": true,
        "id": "iRGx57-becLT"
      },
      "outputs": [],
      "execution_count": null
    },
    {
      "cell_type": "code",
      "source": [
        "pip install pmdarima"
      ],
      "metadata": {
        "_kg_hide-output": true,
        "execution": {
          "iopub.status.busy": "2024-10-24T10:28:05.844239Z",
          "iopub.execute_input": "2024-10-24T10:28:05.844582Z",
          "iopub.status.idle": "2024-10-24T10:28:18.806362Z",
          "shell.execute_reply.started": "2024-10-24T10:28:05.844547Z",
          "shell.execute_reply": "2024-10-24T10:28:18.804919Z"
        },
        "trusted": true,
        "id": "9oVJ1QorecLU"
      },
      "outputs": [],
      "execution_count": null
    },
    {
      "cell_type": "code",
      "source": [
        "# This Python 3 environment comes with many helpful analytics libraries installed\n",
        "# It is defined by the kaggle/python Docker image: https://github.com/kaggle/docker-python\n",
        "# For example, here's several helpful packages to load\n",
        "\n",
        "import numpy as np # linear algebra\n",
        "import pandas as pd # data processing, CSV file I/O (e.g. pd.read_csv)\n",
        "\n",
        "# Input data files are available in the read-only \"../input/\" directory\n",
        "# For example, running this (by clicking run or pressing Shift+Enter) will list all files under the input directory\n",
        "\n",
        "import os\n",
        "for dirname, _, filenames in os.walk('/kaggle/input'):\n",
        "    for filename in filenames:\n",
        "        print(os.path.join(dirname, filename))\n",
        "\n",
        "# You can write up to 20GB to the current directory (/kaggle/working/) that gets preserved as output when you create a version using \"Save & Run All\"\n",
        "# You can also write temporary files to /kaggle/temp/, but they won't be saved outside of the current session"
      ],
      "metadata": {
        "execution": {
          "iopub.status.busy": "2024-10-24T10:28:18.808384Z",
          "iopub.execute_input": "2024-10-24T10:28:18.808919Z",
          "iopub.status.idle": "2024-10-24T10:28:19.239483Z",
          "shell.execute_reply.started": "2024-10-24T10:28:18.808862Z",
          "shell.execute_reply": "2024-10-24T10:28:19.238351Z"
        },
        "trusted": true,
        "id": "lo_GGdRTecLU"
      },
      "outputs": [],
      "execution_count": null
    },
    {
      "cell_type": "code",
      "source": [
        "import pandas as pd\n",
        "import numpy as np\n",
        "import matplotlib.pyplot as plt\n",
        "from statsmodels.tsa.seasonal import seasonal_decompose\n",
        "from pandas.api.types import CategoricalDtype\n",
        "import holidays\n",
        "from sklearn.linear_model import LinearRegression\n",
        "from datetime import datetime\n",
        "from prophet import Prophet\n",
        "from sklearn.metrics import mean_squared_error, mean_absolute_error, mean_absolute_percentage_error\n",
        "import warnings\n",
        "warnings.filterwarnings(\"ignore\")"
      ],
      "metadata": {
        "execution": {
          "iopub.status.busy": "2024-10-24T10:28:19.240949Z",
          "iopub.execute_input": "2024-10-24T10:28:19.241419Z",
          "iopub.status.idle": "2024-10-24T10:28:20.324268Z",
          "shell.execute_reply.started": "2024-10-24T10:28:19.24138Z",
          "shell.execute_reply": "2024-10-24T10:28:20.323212Z"
        },
        "trusted": true,
        "id": "Qx-9Cdc9ecLV"
      },
      "outputs": [],
      "execution_count": null
    },
    {
      "cell_type": "markdown",
      "source": [
        "## Import time series data"
      ],
      "metadata": {
        "id": "6S1HHm1EecLW"
      }
    },
    {
      "cell_type": "code",
      "source": [
        "df = pd.read_csv('/kaggle/input/traffic-prediction-dataset/traffic.csv',index_col=[0],parse_dates=[0])\n",
        "df.head()"
      ],
      "metadata": {
        "execution": {
          "iopub.status.busy": "2024-10-24T10:28:20.32742Z",
          "iopub.execute_input": "2024-10-24T10:28:20.327966Z",
          "iopub.status.idle": "2024-10-24T10:28:20.400313Z",
          "shell.execute_reply.started": "2024-10-24T10:28:20.327921Z",
          "shell.execute_reply": "2024-10-24T10:28:20.398953Z"
        },
        "trusted": true,
        "id": "l7z0LDtVecLX"
      },
      "outputs": [],
      "execution_count": null
    },
    {
      "cell_type": "code",
      "source": [
        "df.shape"
      ],
      "metadata": {
        "execution": {
          "iopub.status.busy": "2024-10-24T10:28:20.401746Z",
          "iopub.execute_input": "2024-10-24T10:28:20.402189Z",
          "iopub.status.idle": "2024-10-24T10:28:20.408754Z",
          "shell.execute_reply.started": "2024-10-24T10:28:20.40215Z",
          "shell.execute_reply": "2024-10-24T10:28:20.407717Z"
        },
        "trusted": true,
        "id": "IOCzr0z2ecLY"
      },
      "outputs": [],
      "execution_count": null
    },
    {
      "cell_type": "markdown",
      "source": [
        "## Pre-processing"
      ],
      "metadata": {
        "id": "-Si80XLKecLY"
      }
    },
    {
      "cell_type": "code",
      "source": [
        "df = df[df['Junction'] == 1]             # Filter for Junction 1\n",
        "df = df.drop(columns=['ID', 'Junction']) # Drop the 'ID' and 'Junction' columns\n",
        "df.head()"
      ],
      "metadata": {
        "execution": {
          "iopub.status.busy": "2024-10-24T10:28:20.410228Z",
          "iopub.execute_input": "2024-10-24T10:28:20.410593Z",
          "iopub.status.idle": "2024-10-24T10:28:20.427283Z",
          "shell.execute_reply.started": "2024-10-24T10:28:20.410554Z",
          "shell.execute_reply": "2024-10-24T10:28:20.426092Z"
        },
        "trusted": true,
        "id": "YuNdBljBecLZ"
      },
      "outputs": [],
      "execution_count": null
    },
    {
      "cell_type": "code",
      "source": [
        "df.shape"
      ],
      "metadata": {
        "execution": {
          "iopub.status.busy": "2024-10-24T10:28:20.429132Z",
          "iopub.execute_input": "2024-10-24T10:28:20.429491Z",
          "iopub.status.idle": "2024-10-24T10:28:20.436388Z",
          "shell.execute_reply.started": "2024-10-24T10:28:20.429454Z",
          "shell.execute_reply": "2024-10-24T10:28:20.435194Z"
        },
        "trusted": true,
        "id": "Zn_0hShUecLa"
      },
      "outputs": [],
      "execution_count": null
    },
    {
      "cell_type": "code",
      "source": [
        "# check for missing values and fill them if there\n",
        "if(df.isnull().sum().sum()==0):\n",
        "    print('No missing values.')\n",
        "else:\n",
        "    df.fillna(method='ffill',inplace=True)"
      ],
      "metadata": {
        "execution": {
          "iopub.status.busy": "2024-10-24T10:28:20.438093Z",
          "iopub.execute_input": "2024-10-24T10:28:20.43856Z",
          "iopub.status.idle": "2024-10-24T10:28:20.44861Z",
          "shell.execute_reply.started": "2024-10-24T10:28:20.438511Z",
          "shell.execute_reply": "2024-10-24T10:28:20.447551Z"
        },
        "trusted": true,
        "id": "IErnHo2QecLa"
      },
      "outputs": [],
      "execution_count": null
    },
    {
      "cell_type": "markdown",
      "source": [
        "## Feature engineering"
      ],
      "metadata": {
        "id": "xhlke4L1ecLb"
      }
    },
    {
      "cell_type": "code",
      "source": [
        "cat_type = CategoricalDtype(categories=['Monday','Tuesday','Wednesday',\n",
        "                                        'Thursday','Friday','Saturday','Sunday'],\n",
        "                            ordered=True)\n",
        "us_holidays = holidays.US(years=[2015, 2016, 2017])\n",
        "\n",
        "def create_features(df, label=None):\n",
        "    \"\"\"\n",
        "    Creates time series features from datetime index.\n",
        "    \"\"\"\n",
        "    df = df.copy()\n",
        "    df['date'] = df.index\n",
        "    df['hour'] = df['date'].dt.hour\n",
        "    df['weekday'] = df['date'].dt.day_name()\n",
        "    df['weekday'] = df['weekday'].astype(cat_type)\n",
        "    df['month'] = df['date'].dt.month\n",
        "    df['year'] = df['date'].dt.year\n",
        "    df['isholiday'] = df['date'].dt.normalize().isin(us_holidays)\n",
        "    df['date_offset'] = (df.date.dt.month*100 + df.date.dt.day - 320)%1300\n",
        "\n",
        "    df['season'] = pd.cut(df['date_offset'], [0, 300, 602, 900, 1300],\n",
        "                          labels=['Spring', 'Summer', 'Fall', 'Winter']\n",
        "                   )\n",
        "    X = df[['hour','isholiday','weekday','month','year','season']]\n",
        "    if label:\n",
        "        y = df[label]\n",
        "        return X, y\n",
        "    return X\n",
        "\n",
        "X, y = create_features(df, label='Vehicles')\n",
        "features_and_target = pd.concat([X, y], axis=1)\n",
        "\n",
        "# Display the first few rows to verify\n",
        "print(features_and_target[features_and_target['isholiday'] == True])"
      ],
      "metadata": {
        "execution": {
          "iopub.status.busy": "2024-10-24T10:28:20.450163Z",
          "iopub.execute_input": "2024-10-24T10:28:20.450616Z",
          "iopub.status.idle": "2024-10-24T10:28:20.494298Z",
          "shell.execute_reply.started": "2024-10-24T10:28:20.450566Z",
          "shell.execute_reply": "2024-10-24T10:28:20.493085Z"
        },
        "trusted": true,
        "id": "Ud__H8V8ecLc"
      },
      "outputs": [],
      "execution_count": null
    },
    {
      "cell_type": "markdown",
      "source": [
        "## Data Visualization"
      ],
      "metadata": {
        "id": "H2PvypsBecLc"
      }
    },
    {
      "cell_type": "code",
      "source": [
        "# For better readability, resample the data by day and take the mean\n",
        "plt.figure(figsize=(10, 5))\n",
        "df_daily = df.resample('D').mean()\n",
        "plt.plot(df_daily.index, df_daily['Vehicles'])\n",
        "plt.title('Traffic Volume Over Time')\n",
        "plt.xlabel('Date')\n",
        "plt.xticks(rotation=45)\n",
        "plt.ylabel('Average Number of Vehicles')\n",
        "plt.show()"
      ],
      "metadata": {
        "execution": {
          "iopub.status.busy": "2024-10-24T10:28:20.49614Z",
          "iopub.execute_input": "2024-10-24T10:28:20.496522Z",
          "iopub.status.idle": "2024-10-24T10:28:20.948031Z",
          "shell.execute_reply.started": "2024-10-24T10:28:20.496483Z",
          "shell.execute_reply": "2024-10-24T10:28:20.94667Z"
        },
        "trusted": true,
        "id": "z_DMDPzFecLd"
      },
      "outputs": [],
      "execution_count": null
    },
    {
      "cell_type": "code",
      "source": [
        "# Years of traffic\n",
        "colors = ['#1f77b4', '#ff7f0e', '#2ca02c']\n",
        "year_counts = features_and_target['year'].value_counts().sort_index()\n",
        "plt.figure(figsize=(10, 5))\n",
        "plt.bar(year_counts.index.astype(str), year_counts.values, color=colors[:len(year_counts)])\n",
        "plt.title(\"Years of Traffic\")\n",
        "plt.xlabel(\"Year\")\n",
        "plt.ylabel(\"Number of Records\")\n",
        "plt.show()"
      ],
      "metadata": {
        "execution": {
          "iopub.status.busy": "2024-10-24T10:28:20.949906Z",
          "iopub.execute_input": "2024-10-24T10:28:20.950423Z",
          "iopub.status.idle": "2024-10-24T10:28:21.175328Z",
          "shell.execute_reply.started": "2024-10-24T10:28:20.950355Z",
          "shell.execute_reply": "2024-10-24T10:28:21.174187Z"
        },
        "trusted": true,
        "id": "DY12Q3HvecLd"
      },
      "outputs": [],
      "execution_count": null
    },
    {
      "cell_type": "code",
      "source": [
        "# Peak Hours Identification\n",
        "plt.figure(figsize=(10, 5))\n",
        "avg_traffic_by_hour = features_and_target.groupby('hour')['Vehicles'].mean()\n",
        "avg_traffic_by_hour.plot(kind='bar')\n",
        "plt.title('Average Traffic Volume by Hour of Day')\n",
        "plt.xlabel('Hour of Day')\n",
        "plt.ylabel('Average Traffic Volume')\n",
        "plt.show()"
      ],
      "metadata": {
        "execution": {
          "iopub.status.busy": "2024-10-24T10:28:21.176709Z",
          "iopub.execute_input": "2024-10-24T10:28:21.177059Z",
          "iopub.status.idle": "2024-10-24T10:28:21.507504Z",
          "shell.execute_reply.started": "2024-10-24T10:28:21.177024Z",
          "shell.execute_reply": "2024-10-24T10:28:21.506338Z"
        },
        "trusted": true,
        "id": "6z2NSvS7ecLe"
      },
      "outputs": [],
      "execution_count": null
    },
    {
      "cell_type": "code",
      "source": [
        "# Determine how traffic volumes vary by day of the week\n",
        "plt.figure(figsize=(10, 5))\n",
        "average_traffic_by_day = features_and_target.groupby('weekday')['Vehicles'].mean()\n",
        "average_traffic_by_day.plot(kind='bar', color='lightgreen')\n",
        "plt.title('Average Traffic Volume by Day of Week')\n",
        "plt.xlabel('Day of Week')\n",
        "plt.ylabel('Average Traffic Volume')\n",
        "plt.show()"
      ],
      "metadata": {
        "execution": {
          "iopub.status.busy": "2024-10-24T10:28:21.512809Z",
          "iopub.execute_input": "2024-10-24T10:28:21.513211Z",
          "iopub.status.idle": "2024-10-24T10:28:21.786336Z",
          "shell.execute_reply.started": "2024-10-24T10:28:21.513169Z",
          "shell.execute_reply": "2024-10-24T10:28:21.785164Z"
        },
        "trusted": true,
        "id": "VSTNEeKGecLe"
      },
      "outputs": [],
      "execution_count": null
    },
    {
      "cell_type": "code",
      "source": [
        "# Determine how traffic volumes differ vary by Day of Week and Season\n",
        "import seaborn as sns\n",
        "fig, ax = plt.subplots(figsize=(10, 5))\n",
        "sns.boxplot(data=features_and_target.dropna(),\n",
        "            x='weekday',\n",
        "            y='Vehicles',\n",
        "            hue='season',\n",
        "            ax=ax,\n",
        "            linewidth=1)\n",
        "ax.set_title('Vehicles by Day of Week')\n",
        "ax.set_xlabel('Day of Week - Junction 1')\n",
        "ax.set_ylabel('Vehicles')\n",
        "ax.legend(bbox_to_anchor=(1, 1))\n",
        "plt.show()"
      ],
      "metadata": {
        "execution": {
          "iopub.status.busy": "2024-10-24T10:28:21.788099Z",
          "iopub.execute_input": "2024-10-24T10:28:21.78855Z",
          "iopub.status.idle": "2024-10-24T10:28:22.583389Z",
          "shell.execute_reply.started": "2024-10-24T10:28:21.7885Z",
          "shell.execute_reply": "2024-10-24T10:28:22.582233Z"
        },
        "trusted": true,
        "id": "bChMCzPuecLf"
      },
      "outputs": [],
      "execution_count": null
    },
    {
      "cell_type": "code",
      "source": [
        "# Assess how public holidays and other significant days affect traffic volumes\n",
        "average_volume = features_and_target.groupby('isholiday')['Vehicles'].mean()\n",
        "plt.figure(figsize=(10, 6))\n",
        "average_volume.plot(kind='bar')\n",
        "plt.title('Average Traffic Volume: Holidays vs. Non-Holidays')\n",
        "plt.xlabel('Is Holiday')\n",
        "plt.ylabel('Average Number of Vehicles')\n",
        "plt.xticks(ticks=[0, 1], labels=['Non-Holiday', 'Holiday'], rotation=0)\n",
        "plt.show()"
      ],
      "metadata": {
        "execution": {
          "iopub.status.busy": "2024-10-24T10:28:22.585022Z",
          "iopub.execute_input": "2024-10-24T10:28:22.585735Z",
          "iopub.status.idle": "2024-10-24T10:28:22.825298Z",
          "shell.execute_reply.started": "2024-10-24T10:28:22.585681Z",
          "shell.execute_reply": "2024-10-24T10:28:22.824178Z"
        },
        "trusted": true,
        "id": "WLkwF1bUecLg"
      },
      "outputs": [],
      "execution_count": null
    },
    {
      "cell_type": "markdown",
      "source": [
        "## Time Series Decomposition"
      ],
      "metadata": {
        "id": "ayNuf_16ecLg"
      }
    },
    {
      "cell_type": "code",
      "source": [
        "# Perform the seasonal decomposition\n",
        "result = seasonal_decompose(df_daily['Vehicles'], model='additive', period=7)\n",
        "result.plot()\n",
        "plt.tight_layout()\n",
        "plt.show()"
      ],
      "metadata": {
        "execution": {
          "iopub.status.busy": "2024-10-24T10:28:22.826821Z",
          "iopub.execute_input": "2024-10-24T10:28:22.827348Z",
          "iopub.status.idle": "2024-10-24T10:28:24.528894Z",
          "shell.execute_reply.started": "2024-10-24T10:28:22.827296Z",
          "shell.execute_reply": "2024-10-24T10:28:24.52772Z"
        },
        "trusted": true,
        "id": "htbjSxsaecLg"
      },
      "outputs": [],
      "execution_count": null
    },
    {
      "cell_type": "markdown",
      "source": [
        "- The traffic volume data shows a repeating pattern, indicating seasonality, likely weekly.\n",
        "- **The trend component** suggests periods of increase and decrease in traffic, though specific conclusions require more context.\n",
        "- **The seasonal component** reveals consistent peaks and troughs, likely tied to workweek patterns.\n",
        "- **Residuals**, representing irregularities, are mostly random with a few outliers, indicating that the model effectively captures trend and seasonality.\n",
        "\n",
        "Overall, the analysis highlights a strong seasonal pattern, useful for both long-term planning and short-term traffic management."
      ],
      "metadata": {
        "id": "vsCympvDecLh"
      }
    },
    {
      "cell_type": "markdown",
      "source": [
        "## Long-term Trends\n",
        "Analyze if there is a long-term increase or decrease in traffic volumes, which could be indicative of urban development or changes in population density"
      ],
      "metadata": {
        "id": "YHnvJkXfecLh"
      }
    },
    {
      "cell_type": "code",
      "source": [
        "# Resample the data to get monthly averages\n",
        "df_monthly = df.resample('M').mean()\n",
        "\n",
        "# Linear Regression for Trend Analysis\n",
        "X = np.arange(len(df_monthly)).reshape(-1, 1)  # Time as an independent variable\n",
        "y = df_monthly['Vehicles'].values  # Traffic volume as the dependent variable\n",
        "\n",
        "# Create and fit the model\n",
        "model = LinearRegression()\n",
        "model.fit(X, y)\n",
        "\n",
        "# Predict the trend\n",
        "trend = model.predict(X)\n",
        "\n",
        "# Plot the trend\n",
        "plt.figure(figsize=(10, 5))\n",
        "plt.plot(df_monthly.index, y, label='Actual')\n",
        "plt.plot(df_monthly.index, trend, label='Trend', color='red')\n",
        "plt.title('Trend Line for Monthly Average Traffic Volume')\n",
        "plt.xlabel('Date')\n",
        "plt.xticks(rotation=45)\n",
        "plt.ylabel('Average Number of Vehicles')\n",
        "plt.legend()\n",
        "plt.show()"
      ],
      "metadata": {
        "execution": {
          "iopub.status.busy": "2024-10-24T10:28:24.530431Z",
          "iopub.execute_input": "2024-10-24T10:28:24.530921Z",
          "iopub.status.idle": "2024-10-24T10:28:24.915226Z",
          "shell.execute_reply.started": "2024-10-24T10:28:24.530871Z",
          "shell.execute_reply": "2024-10-24T10:28:24.913913Z"
        },
        "trusted": true,
        "id": "vz3pg545ecLi"
      },
      "outputs": [],
      "execution_count": null
    },
    {
      "cell_type": "markdown",
      "source": [
        "The linear trend line highlights a **long-term upward trend** in traffic volumes, likely driven by urban development, population growth, and changing traffic patterns, underscoring the need for improved infrastructure and transportation planning.\n",
        "\n",
        "This rising trend highlights the importance of adapting traffic management strategies and provides valuable insights for city planners and policymakers to consider infrastructure improvements and public transportation enhancements to alleviate potential congestion."
      ],
      "metadata": {
        "id": "2GZGqCxOecLj"
      }
    },
    {
      "cell_type": "markdown",
      "source": [
        "## Impact of External Factors\n",
        "Detect and visualize significant deviations (anomalies) in daily traffic volume - like nearby construction projects or new traffic regulations - by calculating the Z-score and setting a threshold."
      ],
      "metadata": {
        "id": "qUJyKv2hecLj"
      }
    },
    {
      "cell_type": "code",
      "source": [
        "# Calculate the Z-score for each day's traffic volume\n",
        "df_daily['z_score'] = (df_daily['Vehicles'] - df_daily['Vehicles'].mean()) / df_daily['Vehicles'].std()\n",
        "\n",
        "# Identify days where the Z-score is above a certain threshold (e.g., 2 or -2 for significant anomalies)\n",
        "anomalies = df_daily[abs(df_daily['z_score']) > 2]\n",
        "\n",
        "# Plotting\n",
        "plt.figure(figsize=(10, 5))\n",
        "plt.plot(df_daily.index, df_daily['Vehicles'], label='Daily Traffic Volume')\n",
        "plt.scatter(anomalies.index, anomalies['Vehicles'], color='red', label='Anomalies')\n",
        "plt.xlabel('Date')\n",
        "plt.xticks(rotation=45)\n",
        "plt.ylabel('Average Daily Traffic Volume')\n",
        "plt.title('Traffic Volume Over Time with Anomalies')\n",
        "plt.legend()\n",
        "plt.show()"
      ],
      "metadata": {
        "execution": {
          "iopub.status.busy": "2024-10-24T10:28:24.916689Z",
          "iopub.execute_input": "2024-10-24T10:28:24.917121Z",
          "iopub.status.idle": "2024-10-24T10:28:25.359469Z",
          "shell.execute_reply.started": "2024-10-24T10:28:24.917081Z",
          "shell.execute_reply": "2024-10-24T10:28:25.358155Z"
        },
        "trusted": true,
        "id": "idIoU35BecLj"
      },
      "outputs": [],
      "execution_count": null
    },
    {
      "cell_type": "markdown",
      "source": [
        "- Anomalies : The red dots represent days that have been identified as anomalies, where the traffic volume was significantly different from the norm. These could be days with exceptionally high traffic volume compared to the average on other day\n",
        "- Potential External Factors : The anomalies could be due to external factors such as road closures, construction projects, accidents, events, or changes in traffic regulations. These would need to be investigated by cross-referencing the dates of the anomalies with external event data."
      ],
      "metadata": {
        "id": "Mkb31GErecLk"
      }
    },
    {
      "cell_type": "markdown",
      "source": [
        "## Train / Test Split"
      ],
      "metadata": {
        "id": "5kNyj7WJecLl"
      }
    },
    {
      "cell_type": "code",
      "source": [
        "df_daily = df.resample('D').mean()\n",
        "split_date = '1-Jan-2017'\n",
        "df_train = df_daily.loc[df_daily.index <= split_date].copy()\n",
        "df_test = df_daily.loc[df_daily.index > split_date].copy()"
      ],
      "metadata": {
        "execution": {
          "iopub.status.busy": "2024-10-24T10:28:25.360836Z",
          "iopub.execute_input": "2024-10-24T10:28:25.361215Z",
          "iopub.status.idle": "2024-10-24T10:28:25.375248Z",
          "shell.execute_reply.started": "2024-10-24T10:28:25.361177Z",
          "shell.execute_reply": "2024-10-24T10:28:25.373959Z"
        },
        "trusted": true,
        "id": "DixyHmLrecLl"
      },
      "outputs": [],
      "execution_count": null
    },
    {
      "cell_type": "code",
      "source": [
        "# Plot train and test so we can see where we have split\n",
        "df_test \\\n",
        "    .rename(columns={'Vehicles': 'TEST SET'}) \\\n",
        "    .join(df_train.rename(columns={'Vehicles': 'TRAINING SET'}),\n",
        "          how='outer') \\\n",
        "    .plot(figsize=(10, 5), title='Vehicles - Junction 1', style='-', ms=1)\n",
        "plt.xlabel('Date')\n",
        "plt.ylabel('Vehicles')\n",
        "plt.show()"
      ],
      "metadata": {
        "execution": {
          "iopub.status.busy": "2024-10-24T10:28:25.376905Z",
          "iopub.execute_input": "2024-10-24T10:28:25.377813Z",
          "iopub.status.idle": "2024-10-24T10:28:25.904008Z",
          "shell.execute_reply.started": "2024-10-24T10:28:25.377769Z",
          "shell.execute_reply": "2024-10-24T10:28:25.902956Z"
        },
        "trusted": true,
        "id": "S-HdlXPJecLm"
      },
      "outputs": [],
      "execution_count": null
    },
    {
      "cell_type": "markdown",
      "source": [
        "## Prophet Model"
      ],
      "metadata": {
        "id": "OuK1kX6CecLm"
      }
    },
    {
      "cell_type": "markdown",
      "source": [
        "Prophet model expects the dataset to be named a specific way. We will rename our dataframe columns before feeding it into the model.\n",
        "- Datetime column named: ds\n",
        "- target : y"
      ],
      "metadata": {
        "id": "EocAL0McecLm"
      }
    },
    {
      "cell_type": "code",
      "source": [
        "df_train.head()"
      ],
      "metadata": {
        "execution": {
          "iopub.status.busy": "2024-10-24T10:28:25.905381Z",
          "iopub.execute_input": "2024-10-24T10:28:25.905757Z",
          "iopub.status.idle": "2024-10-24T10:28:25.916417Z",
          "shell.execute_reply.started": "2024-10-24T10:28:25.90572Z",
          "shell.execute_reply": "2024-10-24T10:28:25.915175Z"
        },
        "trusted": true,
        "id": "pqHLXTtAecLn"
      },
      "outputs": [],
      "execution_count": null
    },
    {
      "cell_type": "code",
      "source": [
        "# Format data for prophet model using ds and y\n",
        "# Resetting the index converts the datetime index into a regular column\n",
        "df_train_prophet = df_train.reset_index().rename(columns={'DateTime': 'ds', 'Vehicles': 'y'})\n",
        "df_train_prophet.head()"
      ],
      "metadata": {
        "execution": {
          "iopub.status.busy": "2024-10-24T10:28:25.917832Z",
          "iopub.execute_input": "2024-10-24T10:28:25.918194Z",
          "iopub.status.idle": "2024-10-24T10:28:25.935451Z",
          "shell.execute_reply.started": "2024-10-24T10:28:25.918157Z",
          "shell.execute_reply": "2024-10-24T10:28:25.934337Z"
        },
        "trusted": true,
        "id": "Gppws6_TecLo"
      },
      "outputs": [],
      "execution_count": null
    },
    {
      "cell_type": "markdown",
      "source": [
        "#### Fit"
      ],
      "metadata": {
        "id": "RuY7pRS3ecLy"
      }
    },
    {
      "cell_type": "code",
      "source": [
        "%%time\n",
        "model = Prophet()\n",
        "model.fit(df_train_prophet)"
      ],
      "metadata": {
        "execution": {
          "iopub.status.busy": "2024-10-24T10:28:25.936797Z",
          "iopub.execute_input": "2024-10-24T10:28:25.937186Z",
          "iopub.status.idle": "2024-10-24T10:28:26.148624Z",
          "shell.execute_reply.started": "2024-10-24T10:28:25.937148Z",
          "shell.execute_reply": "2024-10-24T10:28:26.147544Z"
        },
        "trusted": true,
        "id": "2WUsNp6JecLz"
      },
      "outputs": [],
      "execution_count": null
    },
    {
      "cell_type": "markdown",
      "source": [
        "#### Predictions"
      ],
      "metadata": {
        "id": "FOvpkj0ZecL0"
      }
    },
    {
      "cell_type": "code",
      "source": [
        "df_test_prophet = df_test.reset_index() \\\n",
        "    .rename(columns={'DateTime':'ds',\n",
        "                     'Vehicles':'y'})\n",
        "df_test_fcst = model.predict(df_test_prophet)\n",
        "df_test_fcst.head()"
      ],
      "metadata": {
        "execution": {
          "iopub.status.busy": "2024-10-24T10:28:26.150344Z",
          "iopub.execute_input": "2024-10-24T10:28:26.150841Z",
          "iopub.status.idle": "2024-10-24T10:28:26.629162Z",
          "shell.execute_reply.started": "2024-10-24T10:28:26.150791Z",
          "shell.execute_reply": "2024-10-24T10:28:26.628077Z"
        },
        "trusted": true,
        "id": "D07lRXbdecL0"
      },
      "outputs": [],
      "execution_count": null
    },
    {
      "cell_type": "code",
      "source": [
        "fig, ax = plt.subplots(figsize=(10, 5))\n",
        "\n",
        "ax.plot(df_train_prophet['ds'], df_train_prophet['y'], label='Train Data', color='green', linewidth=2)\n",
        "ax.plot(df_test_fcst['ds'], df_test_fcst['yhat'], label='Forecast', color='blue', linewidth=2)\n",
        "\n",
        "ax.set_title('#Vehicles - Prophet Forecast')\n",
        "plt.xlabel('Date')\n",
        "plt.ylabel('Vehicles')\n",
        "ax.legend(loc='upper left')\n",
        "plt.show()"
      ],
      "metadata": {
        "execution": {
          "iopub.status.busy": "2024-10-24T10:28:26.630464Z",
          "iopub.execute_input": "2024-10-24T10:28:26.630861Z",
          "iopub.status.idle": "2024-10-24T10:28:26.968307Z",
          "shell.execute_reply.started": "2024-10-24T10:28:26.630823Z",
          "shell.execute_reply": "2024-10-24T10:28:26.967051Z"
        },
        "trusted": true,
        "id": "uadP3nFBecL1"
      },
      "outputs": [],
      "execution_count": null
    },
    {
      "cell_type": "code",
      "source": [
        "fig = model.plot_components(df_test_fcst)\n",
        "plt.show()"
      ],
      "metadata": {
        "execution": {
          "iopub.status.busy": "2024-10-24T10:28:26.970024Z",
          "iopub.execute_input": "2024-10-24T10:28:26.970394Z",
          "iopub.status.idle": "2024-10-24T10:28:27.429401Z",
          "shell.execute_reply.started": "2024-10-24T10:28:26.970353Z",
          "shell.execute_reply": "2024-10-24T10:28:27.428153Z"
        },
        "trusted": true,
        "id": "N7mW_UooecL2"
      },
      "outputs": [],
      "execution_count": null
    },
    {
      "cell_type": "markdown",
      "source": [
        "#### Compare Forecast to Actuals"
      ],
      "metadata": {
        "id": "jiO1-dnSecL2"
      }
    },
    {
      "cell_type": "code",
      "source": [
        "f, ax = plt.subplots(figsize=(10, 5))\n",
        "ax.plot(df_train.index, df_train['Vehicles'], color='orange', label='Train Data', linestyle='-')\n",
        "ax.plot(df_test.index, df_test['Vehicles'], color='red', label='Test Data', linestyle='-')\n",
        "ax.plot(df_test_fcst['ds'], df_test_fcst['yhat'], color='blue', label='Forecast', linestyle='-')\n",
        "ax.legend()\n",
        "ax.set_title('# Vehicles Junction1 - Prophet Forecast')\n",
        "ax.set_xlabel('Date')\n",
        "ax.set_ylabel('Vehicles')\n",
        "plt.show()"
      ],
      "metadata": {
        "execution": {
          "iopub.status.busy": "2024-10-24T10:28:27.431027Z",
          "iopub.execute_input": "2024-10-24T10:28:27.431492Z",
          "iopub.status.idle": "2024-10-24T10:28:27.811346Z",
          "shell.execute_reply.started": "2024-10-24T10:28:27.431441Z",
          "shell.execute_reply": "2024-10-24T10:28:27.810031Z"
        },
        "trusted": true,
        "id": "cCqVQFZlecL3"
      },
      "outputs": [],
      "execution_count": null
    },
    {
      "cell_type": "code",
      "source": [
        "start_date = datetime.strptime('01-01-2017', '%m-%d-%Y')\n",
        "end_date = datetime.strptime('02-01-2017', '%m-%d-%Y')\n",
        "\n",
        "plt.figure(figsize=(10, 5))\n",
        "\n",
        "# Plotting the actual values\n",
        "plt.plot(df_test.index, df_test['Vehicles'], 'r-', label=\"Actual\")  # 'r-' for red line plot\n",
        "\n",
        "# Plotting the forecast\n",
        "model.plot(df_test_fcst, ax=plt.gca())  # Ensure forecast is on the same plot\n",
        "\n",
        "# Setting the x-axis bounds\n",
        "plt.xlim([start_date, end_date])\n",
        "\n",
        "# Filtering legend entries to remove 'Observed data points'\n",
        "handles, labels = plt.gca().get_legend_handles_labels()\n",
        "filtered_handles_labels = [(h, l) for h, l in zip(handles, labels) if l != 'Observed data points']\n",
        "filtered_handles, filtered_labels = zip(*filtered_handles_labels)\n",
        "plt.legend(filtered_handles, filtered_labels, loc='upper left')\n",
        "\n",
        "# Setting the labels and title\n",
        "plt.xlabel('Date')\n",
        "plt.ylabel('Vehicles')\n",
        "plt.suptitle('January 2017 - Forecast vs Actuals')\n",
        "\n",
        "# Display the plot\n",
        "plt.show()"
      ],
      "metadata": {
        "execution": {
          "iopub.status.busy": "2024-10-24T10:28:27.812812Z",
          "iopub.execute_input": "2024-10-24T10:28:27.813195Z",
          "iopub.status.idle": "2024-10-24T10:28:28.14208Z",
          "shell.execute_reply.started": "2024-10-24T10:28:27.813149Z",
          "shell.execute_reply": "2024-10-24T10:28:28.14076Z"
        },
        "trusted": true,
        "id": "_LX74jzuecL3"
      },
      "outputs": [],
      "execution_count": null
    },
    {
      "cell_type": "code",
      "source": [
        "start_date = datetime.strptime('01-02-2017', '%m-%d-%Y')\n",
        "end_date = datetime.strptime('01-08-2017', '%m-%d-%Y')\n",
        "\n",
        "plt.figure(figsize=(10, 5))\n",
        "\n",
        "# Plotting actual values\n",
        "plt.plot(df_test.index, df_test['Vehicles'], 'r-', label=\"Actual\")  # 'r-' means red line\n",
        "\n",
        "# Plotting the forecast\n",
        "model.plot(df_test_fcst, ax=plt.gca())  # Plotting forecast using the model\n",
        "\n",
        "# Setting the bounds for the x-axis\n",
        "plt.xlim([start_date, end_date])\n",
        "\n",
        "# Adding title and labels\n",
        "plt.title('First Week of January 2017 - Forecast vs Actuals')\n",
        "plt.xlabel('Date')\n",
        "plt.ylabel('Vehicles')\n",
        "\n",
        "# Handling the legend\n",
        "handles, labels = plt.gca().get_legend_handles_labels()\n",
        "filtered_handles_labels = [(h, l) for h, l in zip(handles, labels) if l != 'Observed data points']\n",
        "filtered_handles, filtered_labels = zip(*filtered_handles_labels)\n",
        "plt.legend(filtered_handles, filtered_labels, loc='upper left')\n",
        "\n",
        "# Display the plot\n",
        "plt.show()"
      ],
      "metadata": {
        "execution": {
          "iopub.status.busy": "2024-10-24T10:28:28.143557Z",
          "iopub.execute_input": "2024-10-24T10:28:28.143973Z",
          "iopub.status.idle": "2024-10-24T10:28:28.5194Z",
          "shell.execute_reply.started": "2024-10-24T10:28:28.143932Z",
          "shell.execute_reply": "2024-10-24T10:28:28.518277Z"
        },
        "trusted": true,
        "id": "zjVN98uTecL4"
      },
      "outputs": [],
      "execution_count": null
    },
    {
      "cell_type": "markdown",
      "source": [
        "#### Evaluate the model"
      ],
      "metadata": {
        "id": "6QkMFPmBecL5"
      }
    },
    {
      "cell_type": "code",
      "source": [
        "mae = mean_absolute_error(y_true=df_test['Vehicles'],\n",
        "                   y_pred=df_test_fcst['yhat'])\n",
        "mape = mean_absolute_percentage_error(y_true=df_test['Vehicles'],\n",
        "                   y_pred=df_test_fcst['yhat'])*100\n",
        "rmse = np.sqrt(mean_squared_error(y_true=df_test['Vehicles'],\n",
        "                   y_pred=df_test_fcst['yhat']))\n",
        "\n",
        "performance = pd.DataFrame({\n",
        "    'Metrics': ['MAE', 'MAPE', 'RMSE'],\n",
        "    'Prophet': [mae, f'{mape:.2f}%', rmse],\n",
        "})\n",
        "\n",
        "print(performance.set_index('Metrics'))"
      ],
      "metadata": {
        "execution": {
          "iopub.status.busy": "2024-10-24T10:28:28.520807Z",
          "iopub.execute_input": "2024-10-24T10:28:28.521172Z",
          "iopub.status.idle": "2024-10-24T10:28:28.53328Z",
          "shell.execute_reply.started": "2024-10-24T10:28:28.521135Z",
          "shell.execute_reply": "2024-10-24T10:28:28.53205Z"
        },
        "trusted": true,
        "id": "RRY6Fj8tecL6"
      },
      "outputs": [],
      "execution_count": null
    },
    {
      "cell_type": "markdown",
      "source": [
        "#### Adding Holidays"
      ],
      "metadata": {
        "id": "80Fs3iSsecL7"
      }
    },
    {
      "cell_type": "markdown",
      "source": [
        "We will see if adding holiday indicators will help the accuracy of the model. Prophet comes with a Holiday Effects parameter that can be provided to the model prior to training."
      ],
      "metadata": {
        "id": "9pedd3pTecL9"
      }
    },
    {
      "cell_type": "code",
      "source": [
        "from pandas.tseries.holiday import USFederalHolidayCalendar as calendar\n",
        "\n",
        "cal = calendar()\n",
        "holidays = cal.holidays(start=df_daily.index.min(),\n",
        "                        end=df_daily.index.max(),\n",
        "                        return_name=True)\n",
        "holiday_df = pd.DataFrame(data=holidays,\n",
        "                          columns=['holiday'])\n",
        "holiday_df = holiday_df.reset_index().rename(columns={'index':'ds'})"
      ],
      "metadata": {
        "execution": {
          "iopub.status.busy": "2024-10-24T10:28:28.534736Z",
          "iopub.execute_input": "2024-10-24T10:28:28.535153Z",
          "iopub.status.idle": "2024-10-24T10:28:28.571403Z",
          "shell.execute_reply.started": "2024-10-24T10:28:28.535088Z",
          "shell.execute_reply": "2024-10-24T10:28:28.57004Z"
        },
        "trusted": true,
        "id": "KeAL-NF1ecL-"
      },
      "outputs": [],
      "execution_count": null
    },
    {
      "cell_type": "code",
      "source": [
        "holiday_df.head()"
      ],
      "metadata": {
        "execution": {
          "iopub.status.busy": "2024-10-24T10:28:28.573048Z",
          "iopub.execute_input": "2024-10-24T10:28:28.573517Z",
          "iopub.status.idle": "2024-10-24T10:28:28.585413Z",
          "shell.execute_reply.started": "2024-10-24T10:28:28.573463Z",
          "shell.execute_reply": "2024-10-24T10:28:28.584174Z"
        },
        "trusted": true,
        "id": "OkRYVkiPecL_"
      },
      "outputs": [],
      "execution_count": null
    },
    {
      "cell_type": "code",
      "source": [
        "%%time\n",
        "model_with_holidays = Prophet(holidays=holiday_df)\n",
        "model_with_holidays.fit(df_train_prophet)"
      ],
      "metadata": {
        "execution": {
          "iopub.status.busy": "2024-10-24T10:28:28.587228Z",
          "iopub.execute_input": "2024-10-24T10:28:28.58771Z",
          "iopub.status.idle": "2024-10-24T10:28:28.68755Z",
          "shell.execute_reply.started": "2024-10-24T10:28:28.587653Z",
          "shell.execute_reply": "2024-10-24T10:28:28.686241Z"
        },
        "trusted": true,
        "id": "rHDRCXsCecL_"
      },
      "outputs": [],
      "execution_count": null
    },
    {
      "cell_type": "code",
      "source": [
        "df_test_fcst_with_hols = model_with_holidays.predict(df=df_test_prophet)"
      ],
      "metadata": {
        "execution": {
          "iopub.status.busy": "2024-10-24T10:28:28.689065Z",
          "iopub.execute_input": "2024-10-24T10:28:28.689496Z",
          "iopub.status.idle": "2024-10-24T10:28:29.18342Z",
          "shell.execute_reply.started": "2024-10-24T10:28:28.689457Z",
          "shell.execute_reply": "2024-10-24T10:28:29.182324Z"
        },
        "trusted": true,
        "id": "tLOTOT8RecMA"
      },
      "outputs": [],
      "execution_count": null
    },
    {
      "cell_type": "code",
      "source": [
        "mae_with_hols = mean_absolute_error(y_true=df_test,\n",
        "                   y_pred=df_test_fcst_with_hols['yhat'])\n",
        "mape_with_hols = mean_absolute_percentage_error(y_true=df_test,\n",
        "                   y_pred=df_test_fcst_with_hols['yhat'])*100\n",
        "rmse_with_hols = np.sqrt(mean_squared_error(y_true=df_test,\n",
        "                   y_pred=df_test_fcst_with_hols['yhat']))\n",
        "\n",
        "performance = pd.DataFrame({\n",
        "    'Metrics': ['MAE', 'MAPE', 'RMSE'],\n",
        "    'Prophet': [mae, f'{mape:.2f}%', rmse],\n",
        "    'Prophet(holidays)': [mae_with_hols, f'{mape_with_hols:.2f}%', rmse_with_hols]\n",
        "})\n",
        "\n",
        "print(performance.set_index('Metrics'))"
      ],
      "metadata": {
        "scrolled": true,
        "execution": {
          "iopub.status.busy": "2024-10-24T10:28:29.184932Z",
          "iopub.execute_input": "2024-10-24T10:28:29.185316Z",
          "iopub.status.idle": "2024-10-24T10:28:29.20107Z",
          "shell.execute_reply.started": "2024-10-24T10:28:29.185277Z",
          "shell.execute_reply": "2024-10-24T10:28:29.199829Z"
        },
        "trusted": true,
        "id": "RhJAVIiDecMA"
      },
      "outputs": [],
      "execution_count": null
    },
    {
      "cell_type": "markdown",
      "source": [
        "The model with holidays is slightly better at capturing patterns in the data."
      ],
      "metadata": {
        "id": "-glRcetVecMB"
      }
    },
    {
      "cell_type": "markdown",
      "source": [
        "#### Predict into the Future"
      ],
      "metadata": {
        "id": "LIzf_8DoecMC"
      }
    },
    {
      "cell_type": "code",
      "source": [
        "%%time\n",
        "df_prophet = df_daily.reset_index() \\\n",
        "    .rename(columns={'DateTime':'ds',\n",
        "                     'Vehicles':'y'})\n",
        "model_with_holidays = Prophet(holidays=holiday_df)\n",
        "model_fulldf = model_with_holidays.fit(df_prophet)"
      ],
      "metadata": {
        "execution": {
          "iopub.status.busy": "2024-10-24T10:28:29.202816Z",
          "iopub.execute_input": "2024-10-24T10:28:29.203312Z",
          "iopub.status.idle": "2024-10-24T10:28:29.312608Z",
          "shell.execute_reply.started": "2024-10-24T10:28:29.203262Z",
          "shell.execute_reply": "2024-10-24T10:28:29.311238Z"
        },
        "trusted": true,
        "id": "wzincOsjecMC"
      },
      "outputs": [],
      "execution_count": null
    },
    {
      "cell_type": "code",
      "source": [
        "# Generates future dates starting from the last date in df.\n",
        "future_data = model_fulldf.make_future_dataframe(\n",
        "                    periods=365*1,\n",
        "#                     freq='h',\n",
        "                    include_history=False)\n",
        "next_forecast = model_fulldf.predict(future_data)\n",
        "next_forecast[['ds','yhat']].head()"
      ],
      "metadata": {
        "execution": {
          "iopub.status.busy": "2024-10-24T10:28:29.314209Z",
          "iopub.execute_input": "2024-10-24T10:28:29.314568Z",
          "iopub.status.idle": "2024-10-24T10:28:29.851947Z",
          "shell.execute_reply.started": "2024-10-24T10:28:29.314531Z",
          "shell.execute_reply": "2024-10-24T10:28:29.850667Z"
        },
        "trusted": true,
        "id": "v0b3ZRyZecMC"
      },
      "outputs": [],
      "execution_count": null
    },
    {
      "cell_type": "code",
      "source": [
        "plt.figure(figsize=(10, 5))\n",
        "plt.plot(df_daily.index, df_daily['Vehicles'], label='Historical Data', color='blue')\n",
        "plt.plot(next_forecast['ds'], next_forecast['yhat'], label='Forecast', color='green')\n",
        "plt.xlabel('Date')\n",
        "plt.ylabel('Vehicles')\n",
        "plt.title('Forecast')\n",
        "plt.legend()\n",
        "plt.show()"
      ],
      "metadata": {
        "execution": {
          "iopub.status.busy": "2024-10-24T10:28:29.85343Z",
          "iopub.execute_input": "2024-10-24T10:28:29.853844Z",
          "iopub.status.idle": "2024-10-24T10:28:30.222101Z",
          "shell.execute_reply.started": "2024-10-24T10:28:29.853803Z",
          "shell.execute_reply": "2024-10-24T10:28:30.220854Z"
        },
        "trusted": true,
        "id": "Js9WqL4VecME"
      },
      "outputs": [],
      "execution_count": null
    },
    {
      "cell_type": "markdown",
      "source": [
        "## SARIMA Model"
      ],
      "metadata": {
        "id": "lC0pHIIOecME"
      }
    },
    {
      "cell_type": "code",
      "source": [
        "from statsmodels.tsa.stattools import adfuller\n",
        "from statsmodels.graphics.tsaplots import plot_acf, plot_pacf\n",
        "from statsmodels.tsa.stattools import acf, pacf\n",
        "import statsmodels.tsa.api as smt\n",
        "from tabulate import tabulate\n",
        "from pmdarima import auto_arima\n",
        "from statsmodels.tsa.statespace.sarimax import SARIMAX\n",
        "import statsmodels.api as sm\n",
        "from itertools import product\n",
        "from tqdm.notebook import tqdm"
      ],
      "metadata": {
        "execution": {
          "iopub.status.busy": "2024-10-24T10:28:30.223862Z",
          "iopub.execute_input": "2024-10-24T10:28:30.224342Z",
          "iopub.status.idle": "2024-10-24T10:28:30.485243Z",
          "shell.execute_reply.started": "2024-10-24T10:28:30.224293Z",
          "shell.execute_reply": "2024-10-24T10:28:30.483945Z"
        },
        "trusted": true,
        "id": "Fsp5bKnRecMF"
      },
      "outputs": [],
      "execution_count": null
    },
    {
      "cell_type": "markdown",
      "source": [
        "#### Check stationary"
      ],
      "metadata": {
        "id": "QxrKrucWecMF"
      }
    },
    {
      "cell_type": "code",
      "source": [
        "df_diff = df_daily.diff().dropna()\n",
        "result = adfuller(df_diff)\n",
        "table = [\n",
        "    ['ADF Statistic', result[0]],\n",
        "    ['P-value', result[1]],\n",
        "    ['Conclusion', 'The time series is stationary' if result[1] < 0.05 else 'The time series is not stationary']\n",
        "]\n",
        "print(tabulate(table, headers=['Metrics', 'Value'], tablefmt='github'))"
      ],
      "metadata": {
        "execution": {
          "iopub.status.busy": "2024-10-24T10:28:30.492344Z",
          "iopub.execute_input": "2024-10-24T10:28:30.49309Z",
          "iopub.status.idle": "2024-10-24T10:28:30.526402Z",
          "shell.execute_reply.started": "2024-10-24T10:28:30.493045Z",
          "shell.execute_reply": "2024-10-24T10:28:30.524915Z"
        },
        "trusted": true,
        "id": "R0YZxHSSecMG"
      },
      "outputs": [],
      "execution_count": null
    },
    {
      "cell_type": "markdown",
      "source": [
        "#### Define orders"
      ],
      "metadata": {
        "id": "P6sXzlY7ecMH"
      }
    },
    {
      "cell_type": "code",
      "source": [
        "max_lags = 30  # Maximum allowable lags\n",
        "\n",
        "acf_vals = acf(df_diff, nlags=max_lags)\n",
        "plt.bar(range(len(acf_vals)), acf_vals, color='blue')\n",
        "plt.title('Autocorrelation Function (ACF)')\n",
        "plt.xlabel('Lag')\n",
        "plt.ylabel('ACF Value')\n",
        "plt.show()\n",
        "\n",
        "pacf_vals = pacf(df_diff, nlags=max_lags)\n",
        "plt.bar(range(len(pacf_vals)), pacf_vals, color='green')\n",
        "plt.title('Partial Autocorrelation Function (PACF)')\n",
        "plt.xlabel('Lag')\n",
        "plt.ylabel('PACF Value')\n",
        "plt.show()"
      ],
      "metadata": {
        "execution": {
          "iopub.status.busy": "2024-10-24T10:28:30.528288Z",
          "iopub.execute_input": "2024-10-24T10:28:30.529432Z",
          "iopub.status.idle": "2024-10-24T10:28:31.219772Z",
          "shell.execute_reply.started": "2024-10-24T10:28:30.529369Z",
          "shell.execute_reply": "2024-10-24T10:28:31.218571Z"
        },
        "trusted": true,
        "id": "h4FguB6RecMH"
      },
      "outputs": [],
      "execution_count": null
    },
    {
      "cell_type": "code",
      "source": [
        "# setting initial values and some bounds for them\n",
        "ps = range(0, 3)\n",
        "d=1\n",
        "qs = range(0, 3)\n",
        "Ps = range(0, 3)\n",
        "D=1\n",
        "Qs = range(0, 3)\n",
        "s = 7 # season length\n",
        "\n",
        "# creating list with all the possible combinations of parameters\n",
        "parameters = product(ps, qs, Ps, Qs)\n",
        "parameters_list = list(parameters)\n",
        "len(parameters_list)"
      ],
      "metadata": {
        "execution": {
          "iopub.status.busy": "2024-10-24T10:28:31.2215Z",
          "iopub.execute_input": "2024-10-24T10:28:31.221894Z",
          "iopub.status.idle": "2024-10-24T10:28:31.230533Z",
          "shell.execute_reply.started": "2024-10-24T10:28:31.221855Z",
          "shell.execute_reply": "2024-10-24T10:28:31.229402Z"
        },
        "trusted": true,
        "id": "_aLghHKyecMI"
      },
      "outputs": [],
      "execution_count": null
    },
    {
      "cell_type": "code",
      "source": [
        "def optimizeSARIMA(parameters_list, d, D, s, df):\n",
        "    \"\"\"\n",
        "        Return dataframe with parameters and corresponding AIC\n",
        "\n",
        "        parameters_list - list with (p, q, P, Q) tuples\n",
        "        d - integration order in ARIMA model\n",
        "        D - seasonal integration order\n",
        "        s - length of season\n",
        "        df - the DataFrame containing the time series data\n",
        "    \"\"\"\n",
        "\n",
        "    results = []\n",
        "    best_aic = float(\"inf\")\n",
        "\n",
        "    for param in tqdm(parameters_list):\n",
        "        # we need try-except because on some combinations model fails to converge\n",
        "        try:\n",
        "            model=sm.tsa.statespace.SARIMAX(df, order=(param[0], d, param[1]),\n",
        "                                            seasonal_order=(param[2], D, param[3], s)).fit(disp=-1)\n",
        "        except:\n",
        "            continue\n",
        "        aic = model.aic\n",
        "        # saving best model, AIC and parameters\n",
        "        if aic < best_aic:\n",
        "            best_model = model\n",
        "            best_aic = aic\n",
        "            best_param = param\n",
        "        results.append([param, model.aic])\n",
        "\n",
        "    result_table = pd.DataFrame(results)\n",
        "    result_table.columns = ['parameters', 'aic']\n",
        "    # sorting in ascending order, the lower AIC is - the better\n",
        "    result_table = result_table.sort_values(by='aic', ascending=True).reset_index(drop=True)\n",
        "\n",
        "    return result_table"
      ],
      "metadata": {
        "execution": {
          "iopub.status.busy": "2024-10-24T10:28:31.231927Z",
          "iopub.execute_input": "2024-10-24T10:28:31.232291Z",
          "iopub.status.idle": "2024-10-24T10:28:31.246271Z",
          "shell.execute_reply.started": "2024-10-24T10:28:31.232246Z",
          "shell.execute_reply": "2024-10-24T10:28:31.245048Z"
        },
        "trusted": true,
        "id": "mVRxsHOnecMI"
      },
      "outputs": [],
      "execution_count": null
    },
    {
      "cell_type": "code",
      "source": [
        "%%time\n",
        "result_table = optimizeSARIMA(parameters_list, d, D, s, df_train)"
      ],
      "metadata": {
        "execution": {
          "iopub.status.busy": "2024-10-24T10:28:31.247526Z",
          "iopub.execute_input": "2024-10-24T10:28:31.247917Z",
          "iopub.status.idle": "2024-10-24T10:30:08.212653Z",
          "shell.execute_reply.started": "2024-10-24T10:28:31.247877Z",
          "shell.execute_reply": "2024-10-24T10:30:08.2116Z"
        },
        "trusted": true,
        "id": "DhOX2qNkecMJ"
      },
      "outputs": [],
      "execution_count": null
    },
    {
      "cell_type": "code",
      "source": [
        "result_table.head()"
      ],
      "metadata": {
        "execution": {
          "iopub.status.busy": "2024-10-24T10:30:08.214007Z",
          "iopub.execute_input": "2024-10-24T10:30:08.218584Z",
          "iopub.status.idle": "2024-10-24T10:30:08.238622Z",
          "shell.execute_reply.started": "2024-10-24T10:30:08.218526Z",
          "shell.execute_reply": "2024-10-24T10:30:08.237617Z"
        },
        "trusted": true,
        "id": "0zHS_cXNecMJ"
      },
      "outputs": [],
      "execution_count": null
    },
    {
      "cell_type": "markdown",
      "source": [
        "#### Fit the model"
      ],
      "metadata": {
        "id": "5b0pC2Q7ecMK"
      }
    },
    {
      "cell_type": "code",
      "source": [
        "# set the parameters that give the lowest AIC\n",
        "p, q, P, Q = result_table.parameters[0]\n",
        "\n",
        "best_model=sm.tsa.statespace.SARIMAX(df_train, order=(p, d, q),\n",
        "                                        seasonal_order=(P, D, Q, s)).fit(disp=-1)\n",
        "print(best_model.summary())"
      ],
      "metadata": {
        "execution": {
          "iopub.status.busy": "2024-10-24T10:30:08.24324Z",
          "iopub.execute_input": "2024-10-24T10:30:08.246184Z",
          "iopub.status.idle": "2024-10-24T10:30:09.898935Z",
          "shell.execute_reply.started": "2024-10-24T10:30:08.246123Z",
          "shell.execute_reply": "2024-10-24T10:30:09.897796Z"
        },
        "trusted": true,
        "id": "Ho10MXxnecMK"
      },
      "outputs": [],
      "execution_count": null
    },
    {
      "cell_type": "markdown",
      "source": [
        "#### Residual Analysis"
      ],
      "metadata": {
        "id": "Io_tgLcsecML"
      }
    },
    {
      "cell_type": "code",
      "source": [
        "def tsplot(y, lags=None, figsize=(12, 7), style='bmh'):\n",
        "    \"\"\"\n",
        "        Plot time series, its ACF and PACF, calculate Dickey–Fuller test\n",
        "\n",
        "        y - timeseries\n",
        "        lags - how many lags to include in ACF, PACF calculation\n",
        "    \"\"\"\n",
        "    if not isinstance(y, pd.Series):\n",
        "        y = pd.Series(y)\n",
        "\n",
        "    with plt.style.context(style):\n",
        "        fig = plt.figure(figsize=figsize)\n",
        "        layout = (2, 2)\n",
        "        ts_ax = plt.subplot2grid(layout, (0, 0), colspan=2)\n",
        "        acf_ax = plt.subplot2grid(layout, (1, 0))\n",
        "        pacf_ax = plt.subplot2grid(layout, (1, 1))\n",
        "\n",
        "        y.plot(ax=ts_ax)\n",
        "        p_value = sm.tsa.stattools.adfuller(y)[1]\n",
        "        ts_ax.set_title('Time Series Analysis Plots\\n Dickey-Fuller: p={0:.5f}'.format(p_value))\n",
        "        smt.graphics.plot_acf(y, lags=lags, ax=acf_ax)\n",
        "        smt.graphics.plot_pacf(y, lags=lags, ax=pacf_ax)\n",
        "        plt.tight_layout()"
      ],
      "metadata": {
        "execution": {
          "iopub.status.busy": "2024-10-24T10:30:09.903813Z",
          "iopub.execute_input": "2024-10-24T10:30:09.90647Z",
          "iopub.status.idle": "2024-10-24T10:30:09.918916Z",
          "shell.execute_reply.started": "2024-10-24T10:30:09.906409Z",
          "shell.execute_reply": "2024-10-24T10:30:09.917729Z"
        },
        "trusted": true,
        "id": "Uyzh8qr0ecMM"
      },
      "outputs": [],
      "execution_count": null
    },
    {
      "cell_type": "code",
      "source": [
        "tsplot(best_model.resid[7+1:], lags=30)"
      ],
      "metadata": {
        "execution": {
          "iopub.status.busy": "2024-10-24T10:30:09.924538Z",
          "iopub.execute_input": "2024-10-24T10:30:09.927366Z",
          "iopub.status.idle": "2024-10-24T10:30:11.160828Z",
          "shell.execute_reply.started": "2024-10-24T10:30:09.927309Z",
          "shell.execute_reply": "2024-10-24T10:30:11.159528Z"
        },
        "trusted": true,
        "id": "sFVCIcePecMN"
      },
      "outputs": [],
      "execution_count": null
    },
    {
      "cell_type": "markdown",
      "source": [
        "#### Predictions"
      ],
      "metadata": {
        "id": "6gBOhUQLecMO"
      }
    },
    {
      "cell_type": "code",
      "source": [
        "forecast = best_model.get_prediction(start=df_test.index[0], end=df_test.index[-1], dynamic=False)\n",
        "forecast_mean = forecast.predicted_mean\n",
        "forecast_conf_int = forecast.conf_int()"
      ],
      "metadata": {
        "execution": {
          "iopub.status.busy": "2024-10-24T10:30:11.162295Z",
          "iopub.execute_input": "2024-10-24T10:30:11.162657Z",
          "iopub.status.idle": "2024-10-24T10:30:11.18012Z",
          "shell.execute_reply.started": "2024-10-24T10:30:11.162598Z",
          "shell.execute_reply": "2024-10-24T10:30:11.178846Z"
        },
        "trusted": true,
        "id": "9cj_2bEiecMO"
      },
      "outputs": [],
      "execution_count": null
    },
    {
      "cell_type": "code",
      "source": [
        "plt.figure(figsize=(10, 5))\n",
        "\n",
        "# Plotting the training data\n",
        "plt.plot(df_train.index, df_train, label='Train Data', color='blue')\n",
        "\n",
        "# Plotting the actual test data\n",
        "plt.plot(df_test.index, df_test, label='Test Data', color='green')\n",
        "\n",
        "# Plotting the forecasted data\n",
        "plt.plot(forecast_mean.index, forecast_mean, label='Forecast', color='red')\n",
        "\n",
        "# Plotting the confidence intervals\n",
        "plt.fill_between(forecast_conf_int.index,\n",
        "                 forecast_conf_int.iloc[:, 0],\n",
        "                 forecast_conf_int.iloc[:, 1], color='pink', alpha=0.3, label='Uncertainty Interval')\n",
        "\n",
        "# Final plot adjustments\n",
        "plt.title('SARIMA Model: Train, Test, and Forecast')\n",
        "plt.xlabel('Date')\n",
        "plt.ylabel('Vehicles')\n",
        "plt.legend()\n",
        "plt.show()"
      ],
      "metadata": {
        "execution": {
          "iopub.status.busy": "2024-10-24T10:30:11.181451Z",
          "iopub.execute_input": "2024-10-24T10:30:11.18183Z",
          "iopub.status.idle": "2024-10-24T10:30:11.619918Z",
          "shell.execute_reply.started": "2024-10-24T10:30:11.181791Z",
          "shell.execute_reply": "2024-10-24T10:30:11.618621Z"
        },
        "trusted": true,
        "id": "8Wm6km8ZecMP"
      },
      "outputs": [],
      "execution_count": null
    },
    {
      "cell_type": "markdown",
      "source": [
        "#### Compare Prophet and SARIMA"
      ],
      "metadata": {
        "id": "BRXprbvgecMP"
      }
    },
    {
      "cell_type": "code",
      "source": [
        "mae_sarima = mean_absolute_error(df_test, forecast_mean)\n",
        "mape_sarima = mean_absolute_percentage_error(df_test, forecast_mean) * 100\n",
        "rmse_sarima = np.sqrt(mean_squared_error(df_test, forecast_mean))\n",
        "\n",
        "performance = pd.DataFrame({\n",
        "    'Metrics': ['MAE', 'MAPE', 'RMSE'],\n",
        "    'Prophet(holidays)': [mae_with_hols, f'{mape_with_hols:.2f}%', rmse_with_hols],\n",
        "    'SARIMA': [mae_sarima, f'{mape_sarima:.2f}%', rmse_sarima]\n",
        "})\n",
        "\n",
        "print(performance.set_index('Metrics'))"
      ],
      "metadata": {
        "execution": {
          "iopub.status.busy": "2024-10-24T10:30:11.621682Z",
          "iopub.execute_input": "2024-10-24T10:30:11.622198Z",
          "iopub.status.idle": "2024-10-24T10:30:11.637911Z",
          "shell.execute_reply.started": "2024-10-24T10:30:11.622152Z",
          "shell.execute_reply": "2024-10-24T10:30:11.636415Z"
        },
        "trusted": true,
        "id": "TIOMmy6SecMQ"
      },
      "outputs": [],
      "execution_count": null
    },
    {
      "cell_type": "markdown",
      "source": [
        "Prophet outperforms SARIMA in forecasting traffic data due to its superior ability to capture trends, seasonality, and holiday effects, leading to lower error metrics. This suggests Prophet is better suited for the complexities of this dataset."
      ],
      "metadata": {
        "id": "Fff3MaKcecMQ"
      }
    },
    {
      "cell_type": "markdown",
      "source": [
        "## SARIMAX Model"
      ],
      "metadata": {
        "id": "3y_MlORhecMR"
      }
    },
    {
      "cell_type": "code",
      "source": [
        "from holidays import US\n",
        "us_holidays = US(years=[2015, 2016, 2017])\n",
        "\n",
        "# Create copies of the original DataFrames before adding the 'isholiday' column\n",
        "df_train_holidays = df_train.copy()\n",
        "df_test_holidays = df_test.copy()\n",
        "\n",
        "# Add the 'isholiday' column to the copied DataFrames\n",
        "df_train_holidays['isholiday'] = df_train_holidays.index.normalize().isin(us_holidays).astype(int)\n",
        "df_test_holidays['isholiday'] = df_test_holidays.index.normalize().isin(us_holidays).astype(int)\n",
        "\n",
        "# Create exogenous matrices for holidays\n",
        "exog_train = df_train_holidays[['isholiday']]\n",
        "exog_test = df_test_holidays[['isholiday']]\n",
        "\n",
        "# Fit the SARIMAX model with holidays as exogenous variables\n",
        "model_holds = SARIMAX(df_train_holidays['Vehicles'],\n",
        "                order=(p, d, q),\n",
        "                seasonal_order=(P, D, Q, s),\n",
        "                exog=exog_train)\n",
        "best_model_holds = model_holds.fit()\n",
        "\n",
        "# Make predictions using the test exogenous variables\n",
        "forecast_holds = best_model_holds.get_prediction(start=df_test.index[0], end=df_test.index[-1], exog=exog_test)\n",
        "forecast_mean_holds = forecast_holds.predicted_mean\n",
        "forecast_conf_int = forecast.conf_int()"
      ],
      "metadata": {
        "execution": {
          "iopub.status.busy": "2024-10-24T10:30:11.639479Z",
          "iopub.execute_input": "2024-10-24T10:30:11.639922Z",
          "iopub.status.idle": "2024-10-24T10:30:13.529762Z",
          "shell.execute_reply.started": "2024-10-24T10:30:11.639879Z",
          "shell.execute_reply": "2024-10-24T10:30:13.528733Z"
        },
        "trusted": true,
        "id": "qBqzWZPxecMR"
      },
      "outputs": [],
      "execution_count": null
    },
    {
      "cell_type": "code",
      "source": [
        "plt.figure(figsize=(10, 5))\n",
        "\n",
        "# Plotting the training data\n",
        "plt.plot(df_train.index, df_train, label='Train Data', color='blue')\n",
        "\n",
        "# Plotting the actual test data\n",
        "plt.plot(df_test.index, df_test, label='Test Data', color='green')\n",
        "\n",
        "# Plotting the forecasted data\n",
        "plt.plot(forecast_mean_holds.index, forecast_mean_holds, label='Forecast', color='red')\n",
        "\n",
        "# Plotting the confidence intervals\n",
        "plt.fill_between(forecast_conf_int.index,\n",
        "                 forecast_conf_int.iloc[:, 0],\n",
        "                 forecast_conf_int.iloc[:, 1], color='pink', alpha=0.3, label='Uncertainty Interval')\n",
        "\n",
        "# Final plot adjustments\n",
        "plt.title('SARIMA Model: Train, Test, and Forecast')\n",
        "plt.xlabel('Date')\n",
        "plt.ylabel('Vehicles')\n",
        "plt.legend()\n",
        "plt.show()"
      ],
      "metadata": {
        "execution": {
          "iopub.status.busy": "2024-10-24T10:30:13.531237Z",
          "iopub.execute_input": "2024-10-24T10:30:13.535162Z",
          "iopub.status.idle": "2024-10-24T10:30:13.997855Z",
          "shell.execute_reply.started": "2024-10-24T10:30:13.535103Z",
          "shell.execute_reply": "2024-10-24T10:30:13.996696Z"
        },
        "trusted": true,
        "id": "hXaH1eWwecMS"
      },
      "outputs": [],
      "execution_count": null
    },
    {
      "cell_type": "markdown",
      "source": [
        "## Final Evaluation : Prophet - SARIMA - SARIMAX"
      ],
      "metadata": {
        "id": "JrAaLI99ecMS"
      }
    },
    {
      "cell_type": "code",
      "source": [
        "mae_sarimax = mean_absolute_error(df_test, forecast_mean_holds)\n",
        "mape_sarimax = mean_absolute_percentage_error(df_test, forecast_mean_holds) * 100\n",
        "rmse_sarimax = np.sqrt(mean_squared_error(df_test, forecast_mean_holds))\n",
        "\n",
        "performance = pd.DataFrame({\n",
        "    'Metrics': ['MAE', 'MAPE', 'RMSE'],\n",
        "    'Prophet': [mae, f'{mape:.2f}%', rmse],\n",
        "    'Prophet(holidays)': [mae_with_hols, f'{mape_with_hols:.2f}%', rmse_with_hols],\n",
        "    'SARIMA': [mae_sarima, f'{mape_sarima:.2f}%', rmse_sarima],\n",
        "    'SARIMAX(holidays)': [mae_sarimax, f'{mape_sarimax:.2f}%', rmse_sarimax]\n",
        "})\n",
        "\n",
        "print(performance.set_index('Metrics'))"
      ],
      "metadata": {
        "scrolled": true,
        "execution": {
          "iopub.status.busy": "2024-10-24T10:30:13.999174Z",
          "iopub.execute_input": "2024-10-24T10:30:13.999499Z",
          "iopub.status.idle": "2024-10-24T10:30:14.015282Z",
          "shell.execute_reply.started": "2024-10-24T10:30:13.999466Z",
          "shell.execute_reply": "2024-10-24T10:30:14.013929Z"
        },
        "trusted": true,
        "id": "KMatpMn9ecMT"
      },
      "outputs": [],
      "execution_count": null
    },
    {
      "cell_type": "markdown",
      "source": [
        "The Prophet model with holidays provides the most accurate forecasts for this traffic dataset. Including holidays significantly improves the model's performance, especially in Prophet. While SARIMAX also benefits from including holidays, it does not outperform the Prophet models. This suggests that Prophet’s approach to handling holidays and trends is particularly well-suited to this data."
      ],
      "metadata": {
        "id": "CPsPxxvfecMT"
      }
    }
  ]
}